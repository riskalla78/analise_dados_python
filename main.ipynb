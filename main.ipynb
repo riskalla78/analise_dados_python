{
 "cells": [
  {
   "cell_type": "code",
   "execution_count": null,
   "metadata": {},
   "outputs": [],
   "source": [
    "# Uma empresa quer entender o motivo da alta taxa de cancelamento do serviço e que sejam propostas soluções\n",
    "\n",
    "\n",
    "# Recebe a base de dados e remove a coluna CustomerID, que não servirá para a análise\n",
    "import pandas as pd\n",
    "import requests\n",
    "from io import StringIO\n",
    "\n",
    "url = \"https://drive.google.com/uc?id=1oKE63LTT_7uEa_RHxCztsoQNFpZQUwEV\"\n",
    "\n",
   
    "response = requests.get(url)\n",
    "data = response.content\n",
    "\n",
    "# Cria um DataFrame a partir do conteúdo baixado\n",
    "tabela = pd.read_csv(StringIO(data.decode('utf-8')))\n",
    "\n",
    "# Verifica se a coluna existe antes de tentar removê-la\n",
    "if \"CustomerID\" in tabela.columns:\n",
    "    tabela = tabela.drop(\"CustomerID\", axis=1)\n",
    "\n",
    "display(tabela)"
   ]
  },
  {
   "cell_type": "code",
   "execution_count": null,
   "metadata": {},
   "outputs": [],
   "source": [
    "# Trata a tabela, removendo as informações vazias\n",
    "\n",
    "tabela = tabela.dropna()\n"
   ]
  },
  {
   "cell_type": "code",
   "execution_count": null,
   "metadata": {},
   "outputs": [],
   "source": [
    "# Verifica a taxa de cancelamento\n",
    "display(tabela[\"cancelou\"].value_counts(normalize=True).map(\"{:.1%}\".format))"
   ]
  },
  {
   "cell_type": "code",
   "execution_count": null,
   "metadata": {},
   "outputs": [],
   "source": [
    "import plotly.express as px\n",
    "for coluna in tabela.columns:\n",
    "   grafico = px.histogram(tabela, x=coluna, color=\"cancelou\")\n",
    "   grafico.show()"
   ]
  },
  {
   "cell_type": "code",
   "execution_count": null,
   "metadata": {},
   "outputs": [],
   "source": [
    "# Conclusões:\n",
    "# Quem faz acima de 4 ligações ao callcenter cancela, então é preciso resolver o problema no máximo até a quarta ligação\n",
    "# Quem tem mais de 20 dias de atraso no pagamento cancela, então é necessário entrar em contato antes disso\n",
    "# Quem tem o contrato mensal cancela, então é preciso oferecer promoções para os outros tipos\n",
    "tabela = tabela[tabela[\"duracao_contrato\"]!=\"Monthly\"]\n",
    "tabela = tabela[tabela[\"ligacoes_callcenter\"]<=4]\n",
    "tabela = tabela[tabela[\"dias_atraso\"]<=20]\n",
    "display(tabela[\"cancelou\"].value_counts(normalize=True).map(\"{:.1%}\".format))\n",
    "# Aplicando essas alterações é possível reduzir a taxa de cancelamento de 56,7% para 18,4%"
   ]
  }
 ],
 "metadata": {
  "kernelspec": {
   "display_name": "Python 3",
   "language": "python",
   "name": "python3"
  },
  "language_info": {
   "codemirror_mode": {
    "name": "ipython",
    "version": 3
   },
   "file_extension": ".py",
   "mimetype": "text/x-python",
   "name": "python",
   "nbconvert_exporter": "python",
   "pygments_lexer": "ipython3",
   "version": "3.11.3"
  }
 },
 "nbformat": 4,
 "nbformat_minor": 2
}
